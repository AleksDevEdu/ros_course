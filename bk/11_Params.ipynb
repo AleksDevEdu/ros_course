{
 "cells": [
  {
   "cell_type": "markdown",
   "metadata": {},
   "source": [
    "# ROS параметры\n",
    "\n",
    "Есть еще один аспект, который называется [__сервер параметров__](http://wiki.ros.org/Parameter%20Server).\n",
    "\n",
    "__Параметрами__ в ROS называются просто данные, которые хранятся под определенными именами и пространствами имен. Как было рассмотрено ранее, запуск узла в пространстве имен меняет конечное имя узла, а также топика. Аналогично с этим, вся работа узла с параметрами (чтение, запись) происходит в том пространстве имен, которому он принадлежит.\n",
    "\n",
    "> Сервер параметров хранит параметры и привязан к мастеру. Перезапуск мастера приводит к потере всех ранее заданных параметров.\n",
    "\n",
    "Пора знакомиться с основной утилитой работы с параметрами =)"
   ]
  },
  {
   "cell_type": "code",
   "execution_count": null,
   "metadata": {},
   "outputs": [],
   "source": [
    "%%bash\n",
    "rosparam -h"
   ]
  },
  {
   "cell_type": "markdown",
   "metadata": {},
   "source": [
    "Теперь попробуем проверить список параметров в системе"
   ]
  },
  {
   "cell_type": "code",
   "execution_count": null,
   "metadata": {},
   "outputs": [],
   "source": [
    "%%bash\n",
    "rosparam list"
   ]
  },
  {
   "cell_type": "markdown",
   "metadata": {},
   "source": [
    "Давайте поработаем с параметром `/rosdistro`"
   ]
  },
  {
   "cell_type": "code",
   "execution_count": null,
   "metadata": {},
   "outputs": [],
   "source": [
    "%%bash\n",
    "rosparam get /rosdistro"
   ]
  },
  {
   "cell_type": "markdown",
   "metadata": {},
   "source": [
    "Ожидаемый вывод, не так ли?)\n",
    "\n",
    "А теперь попробуем задать свой параметр и сразу прочитать его"
   ]
  },
  {
   "cell_type": "code",
   "execution_count": null,
   "metadata": {},
   "outputs": [],
   "source": [
    "%%bash\n",
    "rosparam set /my_param 'Hello =)'\n",
    "rosparam set /my_set '{ 'P': 10.0, 'I': 1.0, 'D' : 0.1 }'\n",
    "\n",
    "rosparam get /my_param\n",
    "rosparam get /my_set\n",
    "rosparam get /my_set/P"
   ]
  },
  {
   "cell_type": "markdown",
   "metadata": {},
   "source": [
    "Вроде все логично =) А теперь попробуйте перезапустить ячейку с выводом списка параметров в системе.\n",
    "\n",
    "Как видно из вывода хелпа, параметрами также можно управлять, удаляя их, также выгружать в файл и загружать из файла."
   ]
  },
  {
   "cell_type": "markdown",
   "metadata": {},
   "source": [
    "## ROS Python параметры\n",
    "\n",
    "Теперь рассмотрим применение параметров внутри узлов. Использование Jupyter notebook позволяет писать части узлов и выполнять их без создания отдельных файлов. Опираться рекомендуется на [страницу из туториала про параметры](http://wiki.ros.org/rospy_tutorials/Tutorials/Parameters).\n",
    "\n",
    "Для начала стандартный и знакомый для Python узла код. Что интересно, в Python для работы с параметрами не обязательно регистрировать узел, тем не менее мы это сделаем на ряду с импортом основного модуля. Для пущего интереса зададим "
   ]
  },
  {
   "cell_type": "code",
   "execution_count": null,
   "metadata": {},
   "outputs": [],
   "source": [
    "import rospy\n",
    "\n",
    "rospy.init_node('params_study')"
   ]
  },
  {
   "cell_type": "markdown",
   "metadata": {},
   "source": [
    "> Не забудьте выполнить ячейку! Как только вы это сделаете, у вас будет подключен модуль `rospy` и действия будут происходить от узла `params_study` для всех ячеек, которые вы выполните далее. (Работает до перезапуска ядра Jupyter - кнопка в панели управления)\n",
    "\n",
    "Ну и начнем рассматривать, что же можно сделать с параметрами в `rospy`?  \n",
    "Рассмотрим основные типы обращений к параметрам:"
   ]
  },
  {
   "cell_type": "code",
   "execution_count": null,
   "metadata": {},
   "outputs": [],
   "source": [
    "# Обращение глобально - как видно в начале стоит `/`\n",
    "# Не обращаем внимания на ns, ищем именно такой путь параметра и никак иначе\n",
    "distro = rospy.get_param('/rosdistro')\n",
    "print(distro)\n",
    "\n",
    "# Обращение локально - в начале не стоит `/`\n",
    "# Допустим мы запустили узел, указав ns:=my_ns\n",
    "# Тогда вызов данной функции будет пытаться найти парметр по пути - `/my_ns/my_set` \n",
    "my_set_param = rospy.get_param('my_set')\n",
    "print(my_set_param)"
   ]
  },
  {
   "cell_type": "markdown",
   "metadata": {},
   "source": [
    "Есть еще такой тип - приватные параметры. Они отличаются тем, что они привязаны к узлу, тем не менее всей системе они также доступны. Лучше объясню на примере:"
   ]
  },
  {
   "cell_type": "code",
   "execution_count": null,
   "metadata": {},
   "outputs": [],
   "source": [
    "# Зададим параметры из узла, локальный, глобальный и приватный\n",
    "rospy.set_param('~ros_priv_param', 'Hi, I am private =)')\n",
    "rospy.set_param('ros_loc_param', 'Hi, I am local =)')\n",
    "rospy.set_param('/ros_glob_param', 'Hi, I am global =)')"
   ]
  },
  {
   "cell_type": "code",
   "execution_count": null,
   "metadata": {},
   "outputs": [],
   "source": [
    "%%bash\n",
    "# Теперь проверим список параметров в системе\n",
    "rosparam list"
   ]
  },
  {
   "cell_type": "markdown",
   "metadata": {},
   "source": [
    "По результатам, вы, наверное, видите в списке наши заданные параметры:\n",
    "```\n",
    "/params_study/ros_priv_param\n",
    "/ros_glob_param\n",
    "/ros_loc_param\n",
    "```\n",
    "\n",
    "Все получилось! Между глобальным параметром и локальным разницы нет - по-умолчанию у ROS ns равен `/`. К сожалению из Jupyter не нашел способа задать ns =(. А вот приватный отличается тем, что в его префиксе присутствует имя узла. Это говорит о том, что у нему можно добраться любому узлу, но концептуально он сидит на конкретном узле. Соответственно, можно запустить много одинаковых узлов (например с помощью флага анонимности) и получить такое же количество параметров. Много букаф =)\n",
    "> Задачка - с помощью утилиты, рассмотренной ранее, проверьте значения заданных параметров `ros_priv_param`, `ros_glob_param`, `ros_loc_param`"
   ]
  },
  {
   "cell_type": "markdown",
   "metadata": {},
   "source": [
    "Значит так, мы научились получать параметры от сервера параметров, задавать (если их не существовало - создавать, функция все равно одна и та же). Еще один момент. Бывает такое, хотим работать с параметром, а его нету в сервере (причины могут быть разные). В этом случае при запросе происходит это:"
   ]
  },
  {
   "cell_type": "code",
   "execution_count": null,
   "metadata": {},
   "outputs": [],
   "source": [
    "not_exist_param = rospy.get_param('i_do_not_exist')\n",
    "print(not_exist_param)"
   ]
  },
  {
   "cell_type": "markdown",
   "metadata": {},
   "source": [
    "Огромный ERROR, ааа!  \n",
    "Не паникуем, сейчас будет финт ушами: для начала решим проблему по пути Python - ловим все исключения (ошибки) и после обрабатываем:"
   ]
  },
  {
   "cell_type": "code",
   "execution_count": null,
   "metadata": {},
   "outputs": [],
   "source": [
    "try:\n",
    "    not_exist_param = rospy.get_param('i_do_not_exist')\n",
    "except:\n",
    "    # Not exist or any kind of other problem - set default\n",
    "    not_exist_param = 'Okay, now default time =0'\n",
    "    \n",
    "print(not_exist_param)"
   ]
  },
  {
   "cell_type": "markdown",
   "metadata": {},
   "source": [
    "А еще можно задать значение по-умолчанию прямо в вызов вторым аргументом:"
   ]
  },
  {
   "cell_type": "code",
   "execution_count": null,
   "metadata": {},
   "outputs": [],
   "source": [
    "not_exist_param = rospy.get_param('i_do_not_exist', 'Okay, now default time =)')\n",
    "print(not_exist_param)"
   ]
  },
  {
   "cell_type": "markdown",
   "metadata": {},
   "source": [
    "И все работает! По факту Python трюк проделывает внутри себя эта функция, если мы задаем значение по-умолчанию =)  \n",
    "Вот так мы научились еще и обрабатывать получение значения по-умолчанию. Есть еще функционал из туториала, удаление параметра, проверка существования параметра и получение списка. Зачем это может понадобиться решайте сами."
   ]
  },
  {
   "cell_type": "code",
   "execution_count": null,
   "metadata": {},
   "outputs": [],
   "source": [
    "param_name_2_delete = 'ros_glob_param'\n",
    "\n",
    "# Проверим список параметров, только уже через Python\n",
    "param_list = rospy.get_param_names()\n",
    "print(param_list)\n",
    "\n",
    "# Наличие можно проверить через функционал ROS    \n",
    "if rospy.has_param(param_name_2_delete):\n",
    "    print('[ROSWay] Parameter exist')\n",
    "else:\n",
    "    print('[ROSWay] Parameter not exist')\n",
    "    \n",
    "# И с проверкой удаляем его\n",
    "if rospy.has_param(param_name_2_delete):\n",
    "    rospy.delete_param(param_name_2_delete)\n",
    "    \n",
    "# Еще раз проверим:\n",
    "if rospy.has_param(param_name_2_delete):\n",
    "    print('[ROSWay] Parameter exist')\n",
    "else:\n",
    "    print('[ROSWay] Parameter not exist')"
   ]
  },
  {
   "cell_type": "markdown",
   "metadata": {},
   "source": [
    "Если вывод похож на\n",
    "```\n",
    "[ROSWay] Parameter exist\n",
    "[ROSWay] Parameter not exist\n",
    "```\n",
    "значит все окей! До вызова удаления параметр существовал, после - нет =)\n",
    "\n",
    "Вообще, при желании глянуть на офф доки - можно воспользоваться страницей [API rospy](http://docs.ros.org/api/rospy/html/).\n",
    "\n",
    "## Управление параметрами\n",
    "\n",
    "Данная тема может в будущем немного подрасти, сейчас просто хотелось бы обратить небольшое внимание на приватные параметры с точки зрения практики. Обычно узлы стартуют с помощью launch-файлов, поэтому задаются параметры внутри с помощью тэгов `<param>`. Пример из одного из файлов планера:\n",
    "```xml\n",
    "    <param name=\"base_global_planner\" value=\"global_planner/GlobalPlanner\" />\n",
    "    <param name=\"planner_frequency\" value=\"1.0\" />\n",
    "    <param name=\"planner_patience\" value=\"5.0\" />\n",
    "```\n",
    "\n",
    "Еще немного для понимания, пример из драйвера камеры:\n",
    "```xml\n",
    "<node ns=\"stereo\" name=\"left_camera\" pkg=\"usb_cam\" type=\"usb_cam_node\" output=\"screen\" >\n",
    "    <param name=\"video_device\" value=\"/dev/video0\" />\n",
    "\t<param name=\"image_width\" value=\"640\" />\n",
    "\t<param name=\"image_height\" value=\"480\" />\n",
    "```\n",
    "\n",
    "Здесь с помощью параметров задается путь девайса (конкретный, так как таких может быть много) и размеры выходного изображения.\n",
    "> Задание для рассуждения - обсудите с коллегами начинку тэга <node> в примере драйвера камеры.\n",
    "\n",
    "### Сохранение и загрузка параметров\n",
    "\n",
    "Так как при закрытии мастера параметры теряются, было бы неплохо узнать, а как сохранять параметры в файл? А как загружать из файла? Такой функционал есть и утилита все та же:"
   ]
  },
  {
   "cell_type": "code",
   "execution_count": null,
   "metadata": {},
   "outputs": [],
   "source": [
    "%%bash\n",
    "rosparam dump --help"
   ]
  },
  {
   "cell_type": "code",
   "execution_count": null,
   "metadata": {},
   "outputs": [],
   "source": [
    "%%bash\n",
    "rosparam load --help"
   ]
  },
  {
   "cell_type": "code",
   "execution_count": null,
   "metadata": {},
   "outputs": [],
   "source": [
    "%%bash\n",
    "# Сохраним все параметры в файл (обычно расширение '.yaml') начиная с пространства имен '/' - то есть все параметры\n",
    "# Флаг -v для визуального контроля\n",
    "rosparam dump -v '/tmp/my_dump.yaml' '/'"
   ]
  },
  {
   "cell_type": "code",
   "execution_count": null,
   "metadata": {},
   "outputs": [],
   "source": [
    "%%bash\n",
    "# Теперь загрузим параметры, но в новое пространство имен\n",
    "rosparam load -v '/tmp/my_dump.yaml' '/my_new_ns_just_to_make_it_long_for_control_=)'"
   ]
  },
  {
   "cell_type": "code",
   "execution_count": null,
   "metadata": {},
   "outputs": [],
   "source": [
    "%%bash\n",
    "# Взглянем на список параметров\n",
    "rosparam list"
   ]
  },
  {
   "cell_type": "markdown",
   "metadata": {},
   "source": [
    "Как видим, у нас появилась полная копия параметров, только в новом пространстве имен. Еще немного практики для понимания пространства имен"
   ]
  },
  {
   "cell_type": "code",
   "execution_count": null,
   "metadata": {},
   "outputs": [],
   "source": [
    "%%bash\n",
    "# Сохраним параметры только из пространства /my_set\n",
    "rosparam dump -v '/tmp/my_dump_special_ns.yaml' '/my_set'"
   ]
  },
  {
   "cell_type": "code",
   "execution_count": null,
   "metadata": {},
   "outputs": [],
   "source": [
    "%%bash\n",
    "# Загрузим их в новое пространство для пущего примера\n",
    "rosparam load -v '/tmp/my_dump_special_ns.yaml' '/new_ns_for_special'"
   ]
  },
  {
   "cell_type": "code",
   "execution_count": null,
   "metadata": {},
   "outputs": [],
   "source": [
    "%%bash\n",
    "# Взглянем на список параметров\n",
    "rosparam list"
   ]
  },
  {
   "cell_type": "markdown",
   "metadata": {},
   "source": [
    "А теперь мозговой штурм! На этом моменте можно очень хорошо понять принцип пространства имен:\n",
    "На это можно смотреть как на систему папок. Если мы указываем для сохранения конкретное пространство, то все, что лежит внутри ns (далее за `/` этой папки) будет сохранено. При загрузке, мы указываем папку, с которой начать запись. \n",
    "> TODO -> может больше расписать, на этом моменте желательно, чтобы люди до конца разобрались, как работать с ns!\n",
    "\n",
    "Думаю, объяснять функционал `delete` сильно не стоит:"
   ]
  },
  {
   "cell_type": "code",
   "execution_count": null,
   "metadata": {},
   "outputs": [],
   "source": [
    "%%bash\n",
    "# Сносим целое пространство и смотрим, что получилось\n",
    "rosparam delete -v '/my_new_ns_just_to_make_it_long_for_control_=)'\n",
    "\n",
    "rosparam list"
   ]
  },
  {
   "cell_type": "markdown",
   "metadata": {},
   "source": [
    "Вот и подчистили наш сервер параметров =)  \n",
    "Теперь к практическим навыкам - вспомним, что запуск launch-файла запускает также и мастера, если тот ранее не был запущен. А сервер параметров завязан на мастера. Значит может понадобиться функционал загрузки параметров на момент запуска узлов - есть он у меня для вас =)  \n",
    "```xml\n",
    "<rosparam file=\"config/costmap_common.yaml\" command=\"load\" ns=\"global_costmap\" />\n",
    "```\n",
    "\n",
    "В этом примере показан тэг `<rosparam>` и его параметры. На самом деле, параметры схожи с опциями утилиты:\n",
    "- file - файл с сохраненными параметрами;\n",
    "- command - может быть [load / dump / delete];\n",
    "- ns - пространство имен, куда загрузить / откуда сохранить / что удалить.\n",
    "\n",
    "Таким образом можно достаточно гибко управлять параметрами ваших узлов. Еще один момент, давайте посмотрим на содержимое файла с параметрами, он достаточно понятный и функционал Jupyter это позволяет:"
   ]
  },
  {
   "cell_type": "code",
   "execution_count": null,
   "metadata": {},
   "outputs": [],
   "source": [
    "%cat '/tmp/my_dump.yaml'"
   ]
  },
  {
   "cell_type": "markdown",
   "metadata": {},
   "source": [
    "Формат <имя параметра> : <значение> - это специальный формат файлов `YAML`. Для массивов и вложенных параметров происходит обертка вложенности скобками `{}` и внутри по идентичному принципу.\n",
    "\n",
    "## Параметры в C++\n",
    "\n",
    "Чтож, во-первых, предлагаю посмотреть [туториал на офф странице](http://wiki.ros.org/roscpp_tutorials/Tutorials/Parameters). Во-вторых, принцип работы аналогичный, поэтому сильно расписывать и рассматривать не будем, обсудим только базовый функционал.\n",
    "\n",
    "> Весь дальнейший функционал принадлежит классу `NodeHandle` и требует созданного объекта этого класса. Далее полагаем, что где-то вызвали `ros::NodeHandle n;` Вот вам еще [API NodeHandle](http://docs.ros.org/kinetic/api/roscpp/html/classros_1_1NodeHandle.html).\n",
    "\n",
    "```cpp\n",
    "bool getParam (const std::string& key, parameter_type& output_value) const;\n",
    "```\n",
    "\n",
    "Функция получает значение параметра по переданному ключу (имени параметра). `parameter_type` соответствует типу значения параметра (string, bool, int, double). Есть еще специальный тип `XmlRpcValue`, но его рассморение не та важно и может быть рассмотрено из [документации](http://docs.ros.org/kinetic/api/xmlrpcpp/html/classXmlRpc_1_1XmlRpcValue.html). Возвращает функция `true`, если параметр был удачно получен, и `false`, если параметр не удалось получить (не существует, например). Пример получения параметра:\n",
    "```cpp\n",
    "    std::string s;\n",
    "    if (n.getParam(\"my_param\", s))\n",
    "    {\n",
    "      ROS_INFO(\"Got param: %s\", s.c_str());\n",
    "    }\n",
    "    else\n",
    "    {\n",
    "      ROS_ERROR(\"Failed to get param 'my_param'\");\n",
    "    }\n",
    "```\n",
    "\n",
    "В строку `s` будет записано значение параметра `my_param`, если таковой существует. Иначе будет выполнен блок `else`.\n",
    "\n",
    "```cpp\n",
    "n.setParam(\"my_param\", \"hello there\");\n",
    "```\n",
    "\n",
    "Функция в примере устанавливает параметр. Первый агрумент - имя параметра, второй - значение. Значение может быть типами string, bool, int, double или XmlRpcValue.\n",
    "\n",
    "```cpp\n",
    "if ( n.hasParam(\"my_param\") )\n",
    "{\n",
    "    ROS_INFO(\"Delete param named 'my_param'\");\n",
    "    n.deleteParam(\"my_param\");\n",
    "}\n",
    "```\n",
    "\n",
    "Пример на проверку наличия параметра на сервере и удаления. Функции достаточно говорящие =)"
   ]
  },
  {
   "cell_type": "markdown",
   "metadata": {},
   "source": [
    "## В результате\n",
    "\n",
    "- Мы познакомились с сервером параметров и утилитой работы с параметрами.\n",
    "- Научились пользовать параметры в Python и С++.\n",
    "- Рассмотрели практические применения утилит и параметров в rolaunch."
   ]
  }
 ],
 "metadata": {
  "kernelspec": {
   "display_name": "Python 2",
   "language": "python",
   "name": "python2"
  },
  "language_info": {
   "codemirror_mode": {
    "name": "ipython",
    "version": 2
   },
   "file_extension": ".py",
   "mimetype": "text/x-python",
   "name": "python",
   "nbconvert_exporter": "python",
   "pygments_lexer": "ipython2",
   "version": "2.7.12"
  }
 },
 "nbformat": 4,
 "nbformat_minor": 2
}
