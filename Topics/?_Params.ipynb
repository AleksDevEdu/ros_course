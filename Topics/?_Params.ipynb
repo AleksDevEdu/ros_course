{
 "cells": [
  {
   "cell_type": "markdown",
   "metadata": {},
   "source": [
    "# ROS параметры\n",
    "\n",
    "Есть еще один аспект, который называется [__сервер параметров__](http://wiki.ros.org/Parameter%20Server).\n",
    "\n",
    "__Параметрами__ в ROS называются просто данные, которые зранятся под определенными именами и пространствами имен. Как было рассмотрено ранее, запуская узел в пространстве имен, это меняет конечное имя ущла, а также топика. Аналогично с этим, вся работа узла с параметрами (чтение, запись) происходит в том пространстве имен, которому он принадлежит.\n",
    "\n",
    "> Сервер параметров хранит параметры и привязан к мастеру. Перезапуск мастера приводит к потере всех ранее заданных параметров.\n",
    "\n",
    "Пора знакомиться с основной утилитой работы с параметрами =)"
   ]
  },
  {
   "cell_type": "code",
   "execution_count": null,
   "metadata": {},
   "outputs": [],
   "source": [
    "%%bash\n",
    "rosparam -h"
   ]
  },
  {
   "cell_type": "markdown",
   "metadata": {},
   "source": [
    "Теперь попробуем проверить список параметров в системе"
   ]
  },
  {
   "cell_type": "code",
   "execution_count": null,
   "metadata": {},
   "outputs": [],
   "source": [
    "%%bash\n",
    "rosparam list"
   ]
  },
  {
   "cell_type": "markdown",
   "metadata": {},
   "source": [
    "Давайте поработаем с параметром `/rosdistro`"
   ]
  },
  {
   "cell_type": "code",
   "execution_count": null,
   "metadata": {},
   "outputs": [],
   "source": [
    "%%bash\n",
    "rosparam get /rosdistro"
   ]
  },
  {
   "cell_type": "markdown",
   "metadata": {},
   "source": [
    "Ожидаемый вывод, не так ли?)\n",
    "\n",
    "А теперь попробуем задать свой параметр и сразу прочитать его"
   ]
  },
  {
   "cell_type": "code",
   "execution_count": null,
   "metadata": {},
   "outputs": [],
   "source": [
    "%%bash\n",
    "rosparam set /my_param 'Hello =)'\n",
    "rosparam set /my_set '{ 'P': 10.0, 'I': 1.0, 'D' : 0.1 }'\n",
    "\n",
    "rosparam get /my_param\n",
    "rosparam get /my_set\n",
    "rosparam get /my_set/P"
   ]
  },
  {
   "cell_type": "markdown",
   "metadata": {},
   "source": [
    "Вроде все логично =) А теперь попробуйте перезапустить ячейку с выводом списка параметров в системе.\n",
    "\n",
    "Как видно из вывода хелпа, параметрами также можно управлять, удаляя их, также выгружать в файл и загружать из файла."
   ]
  },
  {
   "cell_type": "markdown",
   "metadata": {},
   "source": [
    "## В результате\n",
    "\n",
    "- Мы познакомились с сервером параметров и утилитой работы с параметрами."
   ]
  }
 ],
 "metadata": {
  "kernelspec": {
   "display_name": "Python 2",
   "language": "python",
   "name": "python2"
  },
  "language_info": {
   "codemirror_mode": {
    "name": "ipython",
    "version": 2
   },
   "file_extension": ".py",
   "mimetype": "text/x-python",
   "name": "python",
   "nbconvert_exporter": "python",
   "pygments_lexer": "ipython2",
   "version": "2.7.12"
  }
 },
 "nbformat": 4,
 "nbformat_minor": 2
}
