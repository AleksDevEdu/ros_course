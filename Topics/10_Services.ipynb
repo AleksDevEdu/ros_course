{
 "cells": [
  {
   "cell_type": "markdown",
   "metadata": {},
   "source": [
    "# ROS сервисы\n",
    "\n",
    "На данный момент было рассмотрено много нового и предлагается немного порассуждать о том, что имеется на данный момент, а также рассмотреть еще один метод коммуникации между узлами - сервисы.\n",
    "\n",
    "В помощь подойдут ссылки о [сервисах](http://wiki.ros.org/Services) и о том, как их писать на [Python](http://wiki.ros.org/ROS/Tutorials/WritingServiceClient%28python%29) и [C++](http://wiki.ros.org/ROS/Tutorials/WritingServiceClient%28c%2B%2B%29). Также отсюда мы научимся [создавать свои типы сервисов](http://wiki.ros.org/ROS/Tutorials/CreatingMsgAndSrv).\n",
    "\n",
    "## Топики и сообщения\n",
    "\n",
    "- Сообщения являются форматом передаваемых через топик данных. С ними вроде все просто =)\n",
    "- Топики являются каналами передачи данных, в которые один узел кладет данные, а один или несколько узлов данные получают.\n",
    "- Вряд ли существует возможность публикации в один и тот же топик из двух узлов. Вот несколько приемников - состояние нормальное.\n",
    "- Через топики сообщения проходят с какой-то частотой или вразброс. Также, топик является односторонним каналом передачи. Так два узла могут организовать двухстороннюю передачу (туда-сюда) только с помощью двух топиков.\n",
    "\n",
    "## Сервисы\n",
    "\n",
    "Чаще всего топики используются для потоковой передачи данных, один узел просто публикует данные и те, кто на топик подписан, данные получают. Данный подход к коммуникации хорош для постоянной передачи данных, но что если нам нужно один раз передать сообщение/запрос и, возможно, получить ответ на этот запрос. Примером может выступать запрос на включение/отключение передачи данных, получение состояния в определенный момент и т.д.\n",
    "\n",
    "Еще немного терминологии: подход с топиками можно назвать публикация-подписка, в свою очередь подход с использованием сервисов - клиент-сервер. Еще хочется заметить, что узел может сразу быть и публикатором, подписчиком, сервером, клиентом. То есть подходы коммуникации не исключают друг друга.\n",
    "\n",
    "Так что же такое сервисы в ROS? Это запросы к ядру с получением ответа. И тут есть одна особенность, если ROS содержит огромное количество стандартных сообщений, то стандартных сервисов раз, два и обчелся =)\n",
    "\n",
    "Так что если самодельные сообщения пишутся редко из-за обилия стандартных возможностей, то сервисы пишутся частенько и разобрать как это делается нужно. Да и по аналогии с сообщениями это уже будет не трудно =)\n",
    "\n",
    "На этом предисловие предлагаю закончить и перейти к практике!"
   ]
  },
  {
   "cell_type": "markdown",
   "metadata": {},
   "source": [
    "Для начала нам надо познакомиться с базовыми утилитами относительно сервисов: `rossrv` и `roservice`. Первая работает по аналогии с `rosmsg`, у нее даже хелп похожий"
   ]
  },
  {
   "cell_type": "code",
   "execution_count": null,
   "metadata": {},
   "outputs": [],
   "source": [
    "%%bash\n",
    "rossrv -h"
   ]
  },
  {
   "cell_type": "markdown",
   "metadata": {},
   "source": [
    "Таким образом мы можем посмотреть на различные типы сервисов в ROS пакетах и системе в целом"
   ]
  },
  {
   "cell_type": "code",
   "execution_count": null,
   "metadata": {},
   "outputs": [],
   "source": [
    "%%bash\n",
    "rossrv list"
   ]
  },
  {
   "cell_type": "markdown",
   "metadata": {},
   "source": [
    "Так вот как и сказано ранее - стандартных типов сервисов мало"
   ]
  },
  {
   "cell_type": "code",
   "execution_count": null,
   "metadata": {},
   "outputs": [],
   "source": [
    "%%bash\n",
    "rossrv package std_srvs"
   ]
  },
  {
   "cell_type": "markdown",
   "metadata": {},
   "source": [
    "Рассмотрим из чего обычно состоит формат (тип) сервиса. Для примера возьмем сервис `rospy_tutorials/AddTwoInts`"
   ]
  },
  {
   "cell_type": "code",
   "execution_count": null,
   "metadata": {},
   "outputs": [],
   "source": [
    "%%bash\n",
    "rossrv show rospy_tutorials/AddTwoInts"
   ]
  },
  {
   "cell_type": "markdown",
   "metadata": {},
   "source": [
    "Если определение сообщения включает в себя просто перечисление данных, которое несет сообщение, то для сервиса знаком '---' разделяется область запроса и область ответа (request/response). В рассмотренном сервисе два поля a и b являются данными для запроса, поле sum является данными для ответа.\n",
    "\n",
    "То есть узел, который будет выступать в качестве сервера для сервиса данного типа будет принимать на вход два числа, а выдавать одно. По секрету скажу, что в пакете для обучения сервис складывает два числа, только тсссс =)\n",
    "\n",
    "Что же про `rosservice`, он уже ближе к утилите `rostopic`.\n",
    "> Для дальнейшей работы стоит стартануть мастера и узел `add_two_ints_server` из пакета `rospy_tutorials`\n",
    "\n",
    "Запустили? Поехали проверять:"
   ]
  },
  {
   "cell_type": "code",
   "execution_count": null,
   "metadata": {},
   "outputs": [],
   "source": [
    "%%bash\n",
    "rosservice -h"
   ]
  },
  {
   "cell_type": "code",
   "execution_count": null,
   "metadata": {},
   "outputs": [],
   "source": [
    "%%bash\n",
    "rosservice list"
   ]
  },
  {
   "cell_type": "code",
   "execution_count": null,
   "metadata": {},
   "outputs": [],
   "source": [
    "%%bash\n",
    "rosservice info /add_two_ints"
   ]
  },
  {
   "cell_type": "code",
   "execution_count": null,
   "metadata": {},
   "outputs": [],
   "source": [
    "%%bash\n",
    "rosservice args /add_two_ints"
   ]
  },
  {
   "cell_type": "markdown",
   "metadata": {},
   "source": [
    "А теперь очень хитрый ход конем, вызовем сервис из терминала и проверим результат"
   ]
  },
  {
   "cell_type": "code",
   "execution_count": null,
   "metadata": {},
   "outputs": [],
   "source": [
    "%%bash\n",
    "rosservice call /add_two_ints 1 2"
   ]
  },
  {
   "cell_type": "markdown",
   "metadata": {},
   "source": [
    "И что мы видим? Вызов подставил числа в аргументы a и b и произвел запрос к узлу-серверу сервиса типа `rospy_tutorials/AddTwoInts`. Вот так мы познакомились с базовыми утилитами для работы с сервисами! На этом можно узел-сервер закрыть.\n",
    "\n",
    "## Создание типа сервиса\n",
    "\n",
    "А давайте сделаем свой сервис с блэк-джеком и, кхм, полиномами? =)\n",
    "\n",
    "Определяем сервис, создавая папку в нашем пакете под названием `srv` и внутри файл `Poly.srv`. Принцип тот же - как файл назовешь, так сервис и поплывет.\n",
    "Содержание:\n",
    "```\n",
    "int64 x\n",
    "---\n",
    "int64 y\n",
    "```\n",
    "\n",
    "Как вы правильно догадались - надо бы дополнить CMakeLists.txt. Открываем =)  \n",
    "\n",
    "Такие строки мы уже добавляли, но ведь мы пишем полное руководство, так что для генерации типа сервиса это надо\n",
    "```cmake\n",
    "find_package(\n",
    "    catkin REQUIRED COMPONENTS \n",
    "    ... \n",
    "    std_msgs \n",
    "    message_generation \n",
    ")\n",
    "```\n",
    "\n",
    "Также аналогично добавляем макросы\n",
    "```cmake\n",
    "catkin_package( \n",
    "    ... \n",
    "    CATKIN_DEPENDS message_runtime ... \n",
    "    ...\n",
    ")\n",
    "```\n",
    "\n",
    "А вот теперь добавляем файлы типов сервисов к генерации\n",
    "```cmake\n",
    "add_service_files(\n",
    "    FILES\n",
    "    ...\n",
    "    Poly.srv\n",
    ")\n",
    "```\n",
    "\n",
    "И снова повторяет этап, который является общим как для сообщений, так и для типов сервисов\n",
    "```cmake\n",
    "generate_messages( \n",
    "    DEPENDENCIES \n",
    "    ...\n",
    "    std_msgs\n",
    ")\n",
    "```\n",
    "\n",
    "Сохраняем и открываем файл package.xml, в который мы уже добавляли эти строки, но опять же - руководство полное, так что упомянуть надо бы\n",
    "```xml\n",
    "  <build_depend>message_generation</build_depend>\n",
    "  <exec_depend>message_runtime</exec_depend>\n",
    "```\n",
    "\n",
    "После нехитрых махинаций (по факту рядом с сообщениями добавили один макрос) вызываем `catkin_make` внутри ws.\n",
    "\n",
    "Следующая ячейка проверит, что в пакете присутствует новый тип сервиса (если название пакета другое - измените немного ячейку)"
   ]
  },
  {
   "cell_type": "code",
   "execution_count": null,
   "metadata": {},
   "outputs": [],
   "source": [
    "%%bash\n",
    "rossrv package study_pkg"
   ]
  },
  {
   "cell_type": "markdown",
   "metadata": {},
   "source": [
    "## Сервис Python\n",
    "\n",
    "Новый тип определили, пора бы и узел-сервер написать, который будет обрабатывать запросы данного типа сервиса. Полный код имеет следующий вид\n",
    "```python\n",
    "#!/usr/bin/env python\n",
    "\n",
    "from study_pkg.srv import Poly, PolyResponse\n",
    "import rospy\n",
    "\n",
    "def handle_poly_srv(req):\n",
    "    result = req.x + req.x ** 2\n",
    "    print \"Returning [%s + %s^2 = %s]\" % (req.x, req.x, result)\n",
    "    \n",
    "    return PolyResponse(y=result)\n",
    "\n",
    "def poly_server():\n",
    "    rospy.init_node('poly_server')\n",
    "    s = rospy.Service('poly', Poly, handle_poly_srv)\n",
    "    print \"Ready to calc polynomial.\"\n",
    "    rospy.spin()\n",
    "\n",
    "poly_server()\n",
    "```\n",
    "\n",
    "Начнем с импортов, импортируем общий `rospy` и модуль типа сервиса `Poly` вместе с типом ответа `PolyResponse`\n",
    "```python\n",
    "from study_pkg.srv import PolyResponse, Poly\n",
    "import rospy\n",
    "```\n",
    "\n",
    "Вообще при генерации сервиса создается три типа: `Poly`, `PolyRequest`, `PolyResponse`. В данном случае нам интересен только сам тип сервиса и ответ.\n",
    "\n",
    "Далее пишем функцию-обработчик, которая будет обрабатывать приходящие запросы. Аргумент обычно имеет тип `PolyRequest`, поэтому мы можем обращаться к полям запроса напрямую (х)\n",
    "```python\n",
    "def handle_poly_srv(req):\n",
    "    result = req.x + req.x ** 2\n",
    "    print \"Returning [%s + %s^2 = %s]\" % (req.x, req.x, result)\n",
    "    \n",
    "    return PolyResponse(y=result)\n",
    "```\n",
    "\n",
    "В самой функции вычисляется требуемый полином и возврат проиводится объектом `PolyResponse`, в конструкторе которого сразу заполнили единственное поле (y). Также есть вариант сделать возврат следующим образом (эквивалентно первому, но длинее)\n",
    "```python\n",
    "def handle_poly_srv(req):\n",
    "    result = req.x + req.x ** 2\n",
    "    print \"Returning [%s + %s^2 = %s]\" % (req.x, req.x, result)\n",
    "    \n",
    "    resp = PolyResponse()\n",
    "    resp.y = result\n",
    "    \n",
    "    return resp\n",
    "```\n",
    "\n",
    "После этого пишем основную инициализацию, в которой регистрируем узел и сервис. При регистрации сервиса передаем имя сервиса (которое кстати тоже можно мапировать =)), тип и функцию обработчик. После чего запускаем этот сервер (так как писали внутри функции `poly_server()` - вызываем ее)\n",
    "```python\n",
    "def poly_server():\n",
    "    rospy.init_node('poly_server')\n",
    "    s = rospy.Service('poly', Poly, handle_poly_srv)\n",
    "    print \"Ready to calc polynomial.\"\n",
    "    rospy.spin()\n",
    "\n",
    "poly_server()\n",
    "```\n",
    "\n",
    "> Создайте в папке `scripts` файл poly_service.py и перенесите полный код в него. Не забудьте дать права на выполнение: `chmod +x poly_service.py`. Проверьте работоспособность сервиса через утилиты терминала."
   ]
  },
  {
   "cell_type": "markdown",
   "metadata": {},
   "source": [
    "## Клиент сервиса Python\n",
    "\n",
    "Так как мы убедились, что наш сервис работает - попробуем вызвать его программными средствами из другого узла. Данный пример будет сделан в ячейках блокнота, так как тут нет никаких бесконечных циклов.\n",
    "\n",
    "> Для дальнейшей работы должен быть запущен сервис poly_service.py, который мы только написали.\n",
    "\n",
    "Начнем, импортируем необходимы модули"
   ]
  },
  {
   "cell_type": "code",
   "execution_count": null,
   "metadata": {},
   "outputs": [],
   "source": [
    "import rospy\n",
    "from study_pkg.srv import Poly, PolyRequest, PolyResponse"
   ]
  },
  {
   "cell_type": "markdown",
   "metadata": {},
   "source": [
    "Далее вызываем функцию ожидания регистрации сервиса, ведь может так получиться, что клиент запустили, а сервиса еще нет =(  \n",
    "Для этого есть специальная функция `wait_for_service()`"
   ]
  },
  {
   "cell_type": "code",
   "execution_count": null,
   "metadata": {},
   "outputs": [],
   "source": [
    "rospy.wait_for_service('poly')"
   ]
  },
  {
   "cell_type": "markdown",
   "metadata": {},
   "source": [
    "Далее получаем объект сервиса функцией `rospy.ServiceProxy()` и через него вызываем сервис с заполненным объектом `PolyRequest` и получаем объект `PolyResponse`. В случае каких-либо проблем при передаче будет вызвано исключение, которое обработается конструкцией `try-catch`"
   ]
  },
  {
   "cell_type": "code",
   "execution_count": null,
   "metadata": {},
   "outputs": [],
   "source": [
    "try:\n",
    "    poly_srv = rospy.ServiceProxy('poly', Poly)\n",
    "    req = PolyRequest(x=5)\n",
    "    # resp - объект типа PolyResponse\n",
    "    resp = poly_srv(req)\n",
    "    print( resp.y )\n",
    "except rospy.ServiceException, e:\n",
    "    print(\"Service call failed: %s\" % e)"
   ]
  },
  {
   "cell_type": "markdown",
   "metadata": {},
   "source": [
    "Вывод ячейки и терминал сервиса показывают, что все работает корректно.\n",
    "\n",
    "> Попробуйте создать узел в пакете и повызывать его через `rosrun`. Таким образом в пакете будут лежать два узла: клиент и сервер сервиса.\n",
    "\n",
    "## Сервисы С++\n",
    "\n",
    "На этом предлагаю остановиться и немного порассуждать в сторону. С++ сервисы абсолютно ничем не отличаются кроме синтаксиса языка. С одной стороны предлагается обратиться к [офф странице по написанию клиента и сервера сервиса на С++](http://wiki.ros.org/ROS/Tutorials/WritingServiceClient%28c%2B%2B%29). Так как ранее уже была рассмотрена самая тяжелая часть по поводу компиляции, в данном блоке просто рассмотрим основные отличные от Python моменты и в качестве задания будет написать узлы клиента и сервера с суффиксами `_cpp` на С++.\n",
    "\n",
    "Начнем конечно с заголовков\n",
    "```cpp\n",
    "#include \"study_pkg/Poly.h\"\n",
    "```\n",
    "\n",
    "Далее функция обработки запросов, здесь типизация строгая, поэтому все жестко\n",
    "```cpp\n",
    "bool poly_cb(study_pkg::Poly::Request  &req,\n",
    "             study_pkg::Poly::Response &res)\n",
    "{\n",
    "    res.y = req.x + req.x * req.x;\n",
    "    ROS_INFO(\"request: x=%ld\", (long int)req.x);\n",
    "    ROS_INFO(\"sending back response: [%ld]\", (long int)res.y);\n",
    "    return true;\n",
    "}\n",
    "```\n",
    "\n",
    "При регистрации сервиса пользуемся своим типом\n",
    "```cpp\n",
    "ros::ServiceServer service = n.advertiseService(\"poly\", poly_cb);\n",
    "```\n",
    "\n",
    "На этом основные каверзные моменты относительно сервера сервиса рассмотрены. Перейдем к клиенту, создание объекта клиента сервиса\n",
    "```cpp\n",
    "ros::ServiceClient client = n.serviceClient<study_pkg::Poly>(\"poly\");\n",
    "```\n",
    "\n",
    "Создание объекта запроса сервиса и вызов\n",
    "```cpp\n",
    "study_pkg::Poly srv;\n",
    "srv.request.x = 5;\n",
    "if (client.call(srv))\n",
    "{\n",
    "    ROS_INFO(\"Poly: %ld\", (long int)srv.response.y);\n",
    "}\n",
    "else\n",
    "{\n",
    "    ROS_ERROR(\"Failed to call service add_two_ints\");\n",
    "    return 1;\n",
    "}\n",
    "```\n",
    "\n",
    "> Создать узлы клиента и сервера созданного сервиса на языке С++ и проверить их работоспособность.\n",
    "\n",
    "> Попробуйте вызвать C++ клиент при запущенном Python сервере сервиса и наоборот. Убедитесь в отсутствии привязки к языку.\n",
    "\n",
    "## В результате\n",
    "\n",
    "- Рассмотрели еще один метод коммуникации - сервисы.\n",
    "- Научились создавать собственные типы сервисов.\n",
    "- Рассмотрели создание клиентов и серверов сервисов на языках Python и C++."
   ]
  },
  {
   "cell_type": "code",
   "execution_count": null,
   "metadata": {},
   "outputs": [],
   "source": []
  }
 ],
 "metadata": {
  "kernelspec": {
   "display_name": "Python 2",
   "language": "python",
   "name": "python2"
  },
  "language_info": {
   "codemirror_mode": {
    "name": "ipython",
    "version": 2
   },
   "file_extension": ".py",
   "mimetype": "text/x-python",
   "name": "python",
   "nbconvert_exporter": "python",
   "pygments_lexer": "ipython2",
   "version": "2.7.12"
  }
 },
 "nbformat": 4,
 "nbformat_minor": 2
}
