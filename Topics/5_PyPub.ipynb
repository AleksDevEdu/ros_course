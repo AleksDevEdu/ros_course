{
 "cells": [
  {
   "cell_type": "markdown",
   "metadata": {},
   "source": [
    "# Создание ROS узлов с использованием rospy\n",
    "\n",
    "Самое время познакомиться с возможностями написания узлов на языке Python2. В качестве основы можно посмотреть офф страницу о [написании узлов](http://wiki.ros.org/rospy_tutorials/Tutorials/WritingPublisherSubscriber).\n",
    "\n",
    "Для начала, импортируем основной модуль `rospy` и модуль сообщения типа `std_msgs/String`. "
   ]
  },
  {
   "cell_type": "code",
   "execution_count": null,
   "metadata": {},
   "outputs": [],
   "source": [
    "import rospy\n",
    "from std_msgs.msg import String"
   ]
  },
  {
   "cell_type": "markdown",
   "metadata": {},
   "source": [
    "После этого необходимо зарегистрировать узел в системе ROS, а также зарегистрировать топик на публикацию с указанием имени, типа сообщения для топика и размера очереди. Очередь нужна для сохранения сообщений, если узел публикует сообщения часто, при этом низкоуровневая передача сообщений работает медленнее или с задержками. При переполнении очереди отправляются наиболее актуальные данные."
   ]
  },
  {
   "cell_type": "code",
   "execution_count": null,
   "metadata": {},
   "outputs": [],
   "source": [
    "rospy.init_node('talker')\n",
    "pub = rospy.Publisher('my_chat_topic', String, queue_size=10)"
   ]
  },
  {
   "cell_type": "markdown",
   "metadata": {},
   "source": [
    "После остается только создать объект `Rate`, который используется для выдерживания частоты выполнения кода. В конструктор передается значение частоты в Гц."
   ]
  },
  {
   "cell_type": "code",
   "execution_count": null,
   "metadata": {},
   "outputs": [],
   "source": [
    "rate = rospy.Rate(1) # 1 Hz"
   ]
  },
  {
   "cell_type": "markdown",
   "metadata": {},
   "source": [
    "На этом подготовка и создание необходимых объектов для простейшего узла готовы и пора перейти к основной логике программы.\n",
    "\n",
    "В API ROS есть функция, которая сообщает о том, что система ROS завершила работу, именно ей и воспользуемся в качестве условия выхода `rospy.is_shutdown()`. Далее определим функцию с основной логикой узла для дальнейшего запуска."
   ]
  },
  {
   "cell_type": "code",
   "execution_count": null,
   "metadata": {},
   "outputs": [],
   "source": [
    "def talker():\n",
    "    while not rospy.is_shutdown():\n",
    "        # Сформируем сообщение, которое включает время\n",
    "        hello_str = \"hi =) %s\" % rospy.get_time()\n",
    "        # Вывод в терминал информации (содержание сообщения)\n",
    "        rospy.loginfo(hello_str)\n",
    "        # Публикация сообщения в топик\n",
    "        pub.publish(hello_str)\n",
    "        # Сон в соответствии с выдерживаемой частотой\n",
    "        rate.sleep()"
   ]
  },
  {
   "cell_type": "markdown",
   "metadata": {},
   "source": [
    "В случае с типом данных `std_msgs/String` можно просто передавать в функцию `publish()` данные сообщения. В случае с более комплексными данными рекомендуется сначала создавать объект сообщения, заполнять его и после публиковать."
   ]
  },
  {
   "cell_type": "markdown",
   "metadata": {},
   "source": [
    "```python\n",
    "msg = String()\n",
    "msg.data = hello_str\n",
    "\n",
    "pub.publish(msg)\n",
    "```"
   ]
  },
  {
   "cell_type": "markdown",
   "metadata": {},
   "source": [
    "или"
   ]
  },
  {
   "cell_type": "markdown",
   "metadata": {},
   "source": [
    "```python\n",
    "msg = String(data.hello_str)\n",
    "\n",
    "pub.publish(msg)\n",
    "```"
   ]
  },
  {
   "cell_type": "markdown",
   "metadata": {},
   "source": [
    "После этого можем запустить функцию узла (в ней находится вся логика). При этом заворачиваем в конструкцию `try-catch`, чтобы обработать прерывание (нажатием Стоп или Ctrl+C к терминале). "
   ]
  },
  {
   "cell_type": "code",
   "execution_count": null,
   "metadata": {},
   "outputs": [],
   "source": [
    "try:\n",
    "    talker()\n",
    "except (rospy.ROSInterruptException, KeyboardInterrupt):\n",
    "    pass"
   ]
  },
  {
   "cell_type": "markdown",
   "metadata": {},
   "source": [
    "Общий код узла:\n",
    "```python\n",
    "import rospy\n",
    "from std_msgs.msg import String\n",
    "\n",
    "rospy.init_node('talker')\n",
    "pub = rospy.Publisher('chatter', String, queue_size=10)\n",
    "rate = rospy.Rate(1) # 1 Hz\n",
    "\n",
    "def talker():\n",
    "    while not rospy.is_shutdown():\n",
    "        # Сформируем сообщение, которое включает время\n",
    "        hello_str = \"hi =) %s\" % rospy.get_time()\n",
    "        # Вывод в терминал информации (содержание сообщения)\n",
    "        rospy.loginfo(hello_str)\n",
    "        # Публикация сообщения в топик\n",
    "        pub.publish(hello_str)\n",
    "        # Сон в соответствии с выдерживаемой частотой\n",
    "        rate.sleep()\n",
    "\n",
    "try:\n",
    "    talker()\n",
    "except (rospy.ROSInterruptException, KeyboardInterrupt):\n",
    "    pass\n",
    "```"
   ]
  },
  {
   "cell_type": "markdown",
   "metadata": {},
   "source": [
    "> Задачка по самостоятельной интеграции скрипта внутри пакета.\n",
    "- Внутри пакета создать папку `scripts` (Python файлы считаются скриптами), в ней создать файл talker.py и в нем разместить код узла.\n",
    "- Далее дать права на выполение с помощью команды `chmod +x talker.py`\n",
    "- Попробовать запустить в системе ROS созданный узел, для ранее созданного пакета команда будет следующей:  \n",
    "`rosrun my_new_package talker.py`\n",
    "- Прим.: так как мы не задавали флаг анонимности в функции `rospy.init_node('talker')` (по-умолчанию там стоит `anonymous=False`), явно присваивать имя узла не требуется, оно будет такое, как было задано в функции `rospy.init_node()`"
   ]
  },
  {
   "cell_type": "markdown",
   "metadata": {},
   "source": [
    "## В результате\n",
    "\n",
    "- Был создан узел, публикующий сообщения типа строки. Рассмотрено основное API пакета rospy."
   ]
  }
 ],
 "metadata": {
  "kernelspec": {
   "display_name": "Python 2",
   "language": "python",
   "name": "python2"
  },
  "language_info": {
   "codemirror_mode": {
    "name": "ipython",
    "version": 2
   },
   "file_extension": ".py",
   "mimetype": "text/x-python",
   "name": "python",
   "nbconvert_exporter": "python",
   "pygments_lexer": "ipython2",
   "version": "2.7.12"
  }
 },
 "nbformat": 4,
 "nbformat_minor": 2
}
