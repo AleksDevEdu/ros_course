{
 "cells": [
  {
   "cell_type": "markdown",
   "metadata": {},
   "source": [
    "# ROS узлы и топики (основное)\n",
    "\n",
    "Вот и подошел черед познакомиться с первыми базовыми вещами ROS - __узлами__. Под узлом подразумевается программа, которая производит некоторые действия. Узлы соединяются __топиками__, через которые передают __сообщения__. Таким образом, приходим к знакомой схеме типа графа.  \n",
    "\n",
    "Для начала знакомства необходимо запомнить важную вещь!  \n",
    "> В любой экосистеме ROS существует мастер (и он единственный), который выполняет работу по оповещению узлов о том, что кто-то подключается к каналу, а также о том, какие каналы существуют, чтобы организовать подключение.  \n",
    "\n",
    "Для более подробного описания предлагается поглядеть на офф страницы об [узлах](http://wiki.ros.org/Nodes) и [топиках](http://wiki.ros.org/Topics) =)\n",
    "\n",
    "Чтобы не копаться в теории - попробует запустить узел (пока не пишем программу, а только пробуем готовые и знакомимся с инструментами)."
   ]
  },
  {
   "cell_type": "markdown",
   "metadata": {},
   "source": [
    "> Для работы с данной темой необходимо запустить в отдельных терминалах:\n",
    "- мастера командой   \n",
    "`roscore`\n",
    "- узел из пакета `rospy_tutorials` с именем `talker` командой  \n",
    "`rosrun rospy_tutorials talker __name:=talker`\n",
    "- узел из пакета `rospy_tutorials` с именем `listener` командой  \n",
    "`rosrun rospy_tutorials listener __name:=listener`\n",
    "\n",
    "> Запомните, ROS работает на основе мастера, без него ничего работать не будет!"
   ]
  },
  {
   "cell_type": "markdown",
   "metadata": {},
   "source": [
    "---\n",
    "## Основные инструменты\n",
    "Для начала можно проверить существующие команды утилиты анализа узлов"
   ]
  },
  {
   "cell_type": "code",
   "execution_count": 1,
   "metadata": {},
   "outputs": [
    {
     "name": "stdout",
     "output_type": "stream",
     "text": [
      "rosnode is a command-line tool for printing information about ROS Nodes.\n",
      "\n",
      "Commands:\n",
      "\trosnode ping\ttest connectivity to node\n",
      "\trosnode list\tlist active nodes\n",
      "\trosnode info\tprint information about node\n",
      "\trosnode machine\tlist nodes running on a particular machine or list machines\n",
      "\trosnode kill\tkill a running node\n",
      "\trosnode cleanup\tpurge registration information of unreachable nodes\n",
      "\n",
      "Type rosnode <command> -h for more detailed usage, e.g. 'rosnode ping -h'\n",
      "\n"
     ]
    }
   ],
   "source": [
    "%%bash\n",
    "rosnode -h"
   ]
  },
  {
   "cell_type": "markdown",
   "metadata": {},
   "source": [
    "Посмотрим список узлов в системе"
   ]
  },
  {
   "cell_type": "code",
   "execution_count": 2,
   "metadata": {},
   "outputs": [
    {
     "name": "stdout",
     "output_type": "stream",
     "text": [
      "/listener\n",
      "/rosout\n",
      "/talker\n"
     ]
    }
   ],
   "source": [
    "%%bash\n",
    "rosnode list"
   ]
  },
  {
   "cell_type": "markdown",
   "metadata": {},
   "source": [
    "Также можно посмотреть информацию о конкретном узле "
   ]
  },
  {
   "cell_type": "code",
   "execution_count": 3,
   "metadata": {},
   "outputs": [
    {
     "name": "stdout",
     "output_type": "stream",
     "text": [
      "--------------------------------------------------------------------------------\n",
      "Node [/talker]\n",
      "Publications: \n",
      " * /chatter [std_msgs/String]\n",
      " * /rosout [rosgraph_msgs/Log]\n",
      "\n",
      "Subscriptions: None\n",
      "\n",
      "Services: \n",
      " * /talker/get_loggers\n",
      " * /talker/set_logger_level\n",
      "\n",
      "\n",
      "contacting node http://user-vb:34717/ ...\n",
      "Pid: 26319\n",
      "Connections:\n",
      " * topic: /chatter\n",
      "    * to: /listener\n",
      "    * direction: outbound\n",
      "    * transport: TCPROS\n",
      " * topic: /rosout\n",
      "    * to: /rosout\n",
      "    * direction: outbound\n",
      "    * transport: TCPROS\n",
      "\n"
     ]
    }
   ],
   "source": [
    "%%bash\n",
    "rosnode info /talker"
   ]
  },
  {
   "cell_type": "markdown",
   "metadata": {},
   "source": [
    "---\n",
    "Теперь взглянем на возможности утилиты для анализа топиков"
   ]
  },
  {
   "cell_type": "code",
   "execution_count": 4,
   "metadata": {},
   "outputs": [
    {
     "name": "stdout",
     "output_type": "stream",
     "text": [
      "rostopic is a command-line tool for printing information about ROS Topics.\n",
      "\n",
      "Commands:\n",
      "\trostopic bw\tdisplay bandwidth used by topic\n",
      "\trostopic delay\tdisplay delay of topic from timestamp in header\n",
      "\trostopic echo\tprint messages to screen\n",
      "\trostopic find\tfind topics by type\n",
      "\trostopic hz\tdisplay publishing rate of topic    \n",
      "\trostopic info\tprint information about active topic\n",
      "\trostopic list\tlist active topics\n",
      "\trostopic pub\tpublish data to topic\n",
      "\trostopic type\tprint topic or field type\n",
      "\n",
      "Type rostopic <command> -h for more detailed usage, e.g. 'rostopic echo -h'\n",
      "\n"
     ]
    }
   ],
   "source": [
    "%%bash\n",
    "rostopic -h"
   ]
  },
  {
   "cell_type": "markdown",
   "metadata": {},
   "source": [
    "Посмотрим на список топиков в системе"
   ]
  },
  {
   "cell_type": "code",
   "execution_count": 5,
   "metadata": {},
   "outputs": [
    {
     "name": "stdout",
     "output_type": "stream",
     "text": [
      "/chatter\n",
      "/rosout\n",
      "/rosout_agg\n"
     ]
    }
   ],
   "source": [
    "%%bash\n",
    "rostopic list"
   ]
  },
  {
   "cell_type": "markdown",
   "metadata": {},
   "source": [
    "Для вывода в более подробной форме воспользуемся опцией -v"
   ]
  },
  {
   "cell_type": "code",
   "execution_count": 6,
   "metadata": {},
   "outputs": [
    {
     "name": "stdout",
     "output_type": "stream",
     "text": [
      "\n",
      "Published topics:\n",
      " * /chatter [std_msgs/String] 1 publisher\n",
      " * /rosout [rosgraph_msgs/Log] 2 publishers\n",
      " * /rosout_agg [rosgraph_msgs/Log] 1 publisher\n",
      "\n",
      "Subscribed topics:\n",
      " * /chatter [std_msgs/String] 1 subscriber\n",
      " * /rosout [rosgraph_msgs/Log] 1 subscriber\n",
      "\n"
     ]
    }
   ],
   "source": [
    "%%bash\n",
    "rostopic list -v"
   ]
  },
  {
   "cell_type": "markdown",
   "metadata": {},
   "source": [
    "Взглянем на информацию о конкретном топике"
   ]
  },
  {
   "cell_type": "code",
   "execution_count": 7,
   "metadata": {},
   "outputs": [
    {
     "name": "stdout",
     "output_type": "stream",
     "text": [
      "Type: std_msgs/String\n",
      "\n",
      "Publishers: \n",
      " * /talker (http://user-vb:34717/)\n",
      "\n",
      "Subscribers: \n",
      " * /listener (http://user-vb:37743/)\n",
      "\n",
      "\n"
     ]
    }
   ],
   "source": [
    "%%bash\n",
    "rostopic info /chatter"
   ]
  },
  {
   "cell_type": "markdown",
   "metadata": {},
   "source": [
    "Далее можно показать вывод топика. Опция `-n 10` ожидает получения 10-ти сообщений и после этого завершает утилиту. Опция введена для исключения зависания jupyter, в терминале запуск утилиты без опций приведет к бесконечному выводу сообщений из топика (с возможностью выключить Ctrl+C, конечно) =)"
   ]
  },
  {
   "cell_type": "code",
   "execution_count": 8,
   "metadata": {},
   "outputs": [
    {
     "name": "stdout",
     "output_type": "stream",
     "text": [
      "data: \"hello world 1532710738.69\"\n",
      "---\n",
      "data: \"hello world 1532710738.8\"\n",
      "---\n",
      "data: \"hello world 1532710738.89\"\n",
      "---\n",
      "data: \"hello world 1532710738.99\"\n",
      "---\n",
      "data: \"hello world 1532710739.1\"\n",
      "---\n",
      "data: \"hello world 1532710739.19\"\n",
      "---\n",
      "data: \"hello world 1532710739.3\"\n",
      "---\n",
      "data: \"hello world 1532710739.39\"\n",
      "---\n",
      "data: \"hello world 1532710739.49\"\n",
      "---\n",
      "data: \"hello world 1532710739.59\"\n",
      "---\n"
     ]
    }
   ],
   "source": [
    "%%bash\n",
    "rostopic echo -n 10 /chatter"
   ]
  },
  {
   "cell_type": "markdown",
   "metadata": {},
   "source": [
    "> В bash терминале с помощью рассмотренной утилиты попробуйте измерить частоту публикации сообщений в топик. ПОДСКАЗКА: пользоваться help-ом никто не запрещал (= "
   ]
  },
  {
   "cell_type": "markdown",
   "metadata": {},
   "source": [
    "---\n",
    "Также существует утилита `rosmsg`, которая анализирует типы сообщений\n",
    "\n",
    "Попробуем проверить ее команды"
   ]
  },
  {
   "cell_type": "code",
   "execution_count": 9,
   "metadata": {},
   "outputs": [
    {
     "name": "stdout",
     "output_type": "stream",
     "text": [
      "rosmsg is a command-line tool for displaying information about ROS Message types.\n",
      "\n",
      "Commands:\n",
      "\trosmsg show\tShow message description\n",
      "\trosmsg info\tAlias for rosmsg show\n",
      "\trosmsg list\tList all messages\n",
      "\trosmsg md5\tDisplay message md5sum\n",
      "\trosmsg package\tList messages in a package\n",
      "\trosmsg packages\tList packages that contain messages\n",
      "\n",
      "Type rosmsg <command> -h for more detailed usage\n",
      "\n"
     ]
    }
   ],
   "source": [
    "%%bash\n",
    "rosmsg -h"
   ]
  },
  {
   "cell_type": "markdown",
   "metadata": {},
   "source": [
    "А теперь посмотрим на тип сообщения топика `/chatter` - `std_msgs/String`"
   ]
  },
  {
   "cell_type": "code",
   "execution_count": 10,
   "metadata": {},
   "outputs": [
    {
     "name": "stdout",
     "output_type": "stream",
     "text": [
      "string data\n",
      "\n"
     ]
    }
   ],
   "source": [
    "%%bash\n",
    "rosmsg show std_msgs/String"
   ]
  },
  {
   "cell_type": "markdown",
   "metadata": {},
   "source": [
    "В выводе показана начинка прототипа сообщения. Как видно оно содержит единственное поле типа `string`. Таким образом утилита анализирует информацию, связанную именно с сообщениями, а не c самими данными в них.\n",
    "\n",
    "А теперь посмотрим, какие есть сообщения в системе ROS =)"
   ]
  },
  {
   "cell_type": "code",
   "execution_count": 11,
   "metadata": {},
   "outputs": [
    {
     "name": "stdout",
     "output_type": "stream",
     "text": [
      "actionlib/TestAction\n",
      "actionlib/TestActionFeedback\n",
      "actionlib/TestActionGoal\n",
      "actionlib/TestActionResult\n",
      "actionlib/TestFeedback\n",
      "actionlib/TestGoal\n",
      "actionlib/TestRequestAction\n",
      "actionlib/TestRequestActionFeedback\n",
      "actionlib/TestRequestActionGoal\n",
      "actionlib/TestRequestActionResult\n",
      "actionlib/TestRequestFeedback\n",
      "actionlib/TestRequestGoal\n",
      "actionlib/TestRequestResult\n",
      "actionlib/TestResult\n",
      "actionlib/TwoIntsAction\n",
      "actionlib/TwoIntsActionFeedback\n",
      "actionlib/TwoIntsActionGoal\n",
      "actionlib/TwoIntsActionResult\n",
      "actionlib/TwoIntsFeedback\n",
      "actionlib/TwoIntsGoal\n",
      "actionlib/TwoIntsResult\n",
      "actionlib_msgs/GoalID\n",
      "actionlib_msgs/GoalStatus\n",
      "actionlib_msgs/GoalStatusArray\n",
      "actionlib_tutorials/AveragingAction\n",
      "actionlib_tutorials/AveragingActionFeedback\n",
      "actionlib_tutorials/AveragingActionGoal\n",
      "actionlib_tutorials/AveragingActionResult\n",
      "actionlib_tutorials/AveragingFeedback\n",
      "actionlib_tutorials/AveragingGoal\n",
      "actionlib_tutorials/AveragingResult\n",
      "actionlib_tutorials/FibonacciAction\n",
      "actionlib_tutorials/FibonacciActionFeedback\n",
      "actionlib_tutorials/FibonacciActionGoal\n",
      "actionlib_tutorials/FibonacciActionResult\n",
      "actionlib_tutorials/FibonacciFeedback\n",
      "actionlib_tutorials/FibonacciGoal\n",
      "actionlib_tutorials/FibonacciResult\n",
      "bond/Constants\n",
      "bond/Status\n",
      "control_msgs/FollowJointTrajectoryAction\n",
      "control_msgs/FollowJointTrajectoryActionFeedback\n",
      "control_msgs/FollowJointTrajectoryActionGoal\n",
      "control_msgs/FollowJointTrajectoryActionResult\n",
      "control_msgs/FollowJointTrajectoryFeedback\n",
      "control_msgs/FollowJointTrajectoryGoal\n",
      "control_msgs/FollowJointTrajectoryResult\n",
      "control_msgs/GripperCommand\n",
      "control_msgs/GripperCommandAction\n",
      "control_msgs/GripperCommandActionFeedback\n",
      "control_msgs/GripperCommandActionGoal\n",
      "control_msgs/GripperCommandActionResult\n",
      "control_msgs/GripperCommandFeedback\n",
      "control_msgs/GripperCommandGoal\n",
      "control_msgs/GripperCommandResult\n",
      "control_msgs/JointControllerState\n",
      "control_msgs/JointTolerance\n",
      "control_msgs/JointTrajectoryAction\n",
      "control_msgs/JointTrajectoryActionFeedback\n",
      "control_msgs/JointTrajectoryActionGoal\n",
      "control_msgs/JointTrajectoryActionResult\n",
      "control_msgs/JointTrajectoryControllerState\n",
      "control_msgs/JointTrajectoryFeedback\n",
      "control_msgs/JointTrajectoryGoal\n",
      "control_msgs/JointTrajectoryResult\n",
      "control_msgs/PidState\n",
      "control_msgs/PointHeadAction\n",
      "control_msgs/PointHeadActionFeedback\n",
      "control_msgs/PointHeadActionGoal\n",
      "control_msgs/PointHeadActionResult\n",
      "control_msgs/PointHeadFeedback\n",
      "control_msgs/PointHeadGoal\n",
      "control_msgs/PointHeadResult\n",
      "control_msgs/SingleJointPositionAction\n",
      "control_msgs/SingleJointPositionActionFeedback\n",
      "control_msgs/SingleJointPositionActionGoal\n",
      "control_msgs/SingleJointPositionActionResult\n",
      "control_msgs/SingleJointPositionFeedback\n",
      "control_msgs/SingleJointPositionGoal\n",
      "control_msgs/SingleJointPositionResult\n",
      "diagnostic_msgs/DiagnosticArray\n",
      "diagnostic_msgs/DiagnosticStatus\n",
      "diagnostic_msgs/KeyValue\n",
      "dynamic_reconfigure/BoolParameter\n",
      "dynamic_reconfigure/Config\n",
      "dynamic_reconfigure/ConfigDescription\n",
      "dynamic_reconfigure/DoubleParameter\n",
      "dynamic_reconfigure/Group\n",
      "dynamic_reconfigure/GroupState\n",
      "dynamic_reconfigure/IntParameter\n",
      "dynamic_reconfigure/ParamDescription\n",
      "dynamic_reconfigure/SensorLevels\n",
      "dynamic_reconfigure/StrParameter\n",
      "gazebo_msgs/ContactState\n",
      "gazebo_msgs/ContactsState\n",
      "gazebo_msgs/LinkState\n",
      "gazebo_msgs/LinkStates\n",
      "gazebo_msgs/ModelState\n",
      "gazebo_msgs/ModelStates\n",
      "gazebo_msgs/ODEJointProperties\n",
      "gazebo_msgs/ODEPhysics\n",
      "gazebo_msgs/WorldState\n",
      "geometry_msgs/Accel\n",
      "geometry_msgs/AccelStamped\n",
      "geometry_msgs/AccelWithCovariance\n",
      "geometry_msgs/AccelWithCovarianceStamped\n",
      "geometry_msgs/Inertia\n",
      "geometry_msgs/InertiaStamped\n",
      "geometry_msgs/Point\n",
      "geometry_msgs/Point32\n",
      "geometry_msgs/PointStamped\n",
      "geometry_msgs/Polygon\n",
      "geometry_msgs/PolygonStamped\n",
      "geometry_msgs/Pose\n",
      "geometry_msgs/Pose2D\n",
      "geometry_msgs/PoseArray\n",
      "geometry_msgs/PoseStamped\n",
      "geometry_msgs/PoseWithCovariance\n",
      "geometry_msgs/PoseWithCovarianceStamped\n",
      "geometry_msgs/Quaternion\n",
      "geometry_msgs/QuaternionStamped\n",
      "geometry_msgs/Transform\n",
      "geometry_msgs/TransformStamped\n",
      "geometry_msgs/Twist\n",
      "geometry_msgs/TwistStamped\n",
      "geometry_msgs/TwistWithCovariance\n",
      "geometry_msgs/TwistWithCovarianceStamped\n",
      "geometry_msgs/Vector3\n",
      "geometry_msgs/Vector3Stamped\n",
      "geometry_msgs/Wrench\n",
      "geometry_msgs/WrenchStamped\n",
      "map_msgs/OccupancyGridUpdate\n",
      "map_msgs/PointCloud2Update\n",
      "map_msgs/ProjectedMap\n",
      "map_msgs/ProjectedMapInfo\n",
      "nav_msgs/GetMapAction\n",
      "nav_msgs/GetMapActionFeedback\n",
      "nav_msgs/GetMapActionGoal\n",
      "nav_msgs/GetMapActionResult\n",
      "nav_msgs/GetMapFeedback\n",
      "nav_msgs/GetMapGoal\n",
      "nav_msgs/GetMapResult\n",
      "nav_msgs/GridCells\n",
      "nav_msgs/MapMetaData\n",
      "nav_msgs/OccupancyGrid\n",
      "nav_msgs/Odometry\n",
      "nav_msgs/Path\n",
      "pcl_msgs/ModelCoefficients\n",
      "pcl_msgs/PointIndices\n",
      "pcl_msgs/PolygonMesh\n",
      "pcl_msgs/Vertices\n",
      "roscpp/Logger\n",
      "rosgraph_msgs/Clock\n",
      "rosgraph_msgs/Log\n",
      "rosgraph_msgs/TopicStatistics\n",
      "rospy_tutorials/Floats\n",
      "rospy_tutorials/HeaderString\n",
      "sensor_msgs/BatteryState\n",
      "sensor_msgs/CameraInfo\n",
      "sensor_msgs/ChannelFloat32\n",
      "sensor_msgs/CompressedImage\n",
      "sensor_msgs/FluidPressure\n",
      "sensor_msgs/Illuminance\n",
      "sensor_msgs/Image\n",
      "sensor_msgs/Imu\n",
      "sensor_msgs/JointState\n",
      "sensor_msgs/Joy\n",
      "sensor_msgs/JoyFeedback\n",
      "sensor_msgs/JoyFeedbackArray\n",
      "sensor_msgs/LaserEcho\n",
      "sensor_msgs/LaserScan\n",
      "sensor_msgs/MagneticField\n",
      "sensor_msgs/MultiDOFJointState\n",
      "sensor_msgs/MultiEchoLaserScan\n",
      "sensor_msgs/NavSatFix\n",
      "sensor_msgs/NavSatStatus\n",
      "sensor_msgs/PointCloud\n",
      "sensor_msgs/PointCloud2\n",
      "sensor_msgs/PointField\n",
      "sensor_msgs/Range\n",
      "sensor_msgs/RegionOfInterest\n",
      "sensor_msgs/RelativeHumidity\n",
      "sensor_msgs/Temperature\n",
      "sensor_msgs/TimeReference\n",
      "shape_msgs/Mesh\n",
      "shape_msgs/MeshTriangle\n",
      "shape_msgs/Plane\n",
      "shape_msgs/SolidPrimitive\n",
      "smach_msgs/SmachContainerInitialStatusCmd\n",
      "smach_msgs/SmachContainerStatus\n",
      "smach_msgs/SmachContainerStructure\n",
      "std_msgs/Bool\n",
      "std_msgs/Byte\n",
      "std_msgs/ByteMultiArray\n",
      "std_msgs/Char\n",
      "std_msgs/ColorRGBA\n",
      "std_msgs/Duration\n",
      "std_msgs/Empty\n",
      "std_msgs/Float32\n",
      "std_msgs/Float32MultiArray\n",
      "std_msgs/Float64\n",
      "std_msgs/Float64MultiArray\n",
      "std_msgs/Header\n",
      "std_msgs/Int16\n",
      "std_msgs/Int16MultiArray\n",
      "std_msgs/Int32\n",
      "std_msgs/Int32MultiArray\n",
      "std_msgs/Int64\n",
      "std_msgs/Int64MultiArray\n",
      "std_msgs/Int8\n",
      "std_msgs/Int8MultiArray\n",
      "std_msgs/MultiArrayDimension\n",
      "std_msgs/MultiArrayLayout\n",
      "std_msgs/String\n",
      "std_msgs/Time\n",
      "std_msgs/UInt16\n",
      "std_msgs/UInt16MultiArray\n",
      "std_msgs/UInt32\n",
      "std_msgs/UInt32MultiArray\n",
      "std_msgs/UInt64\n",
      "std_msgs/UInt64MultiArray\n",
      "std_msgs/UInt8\n",
      "std_msgs/UInt8MultiArray\n",
      "stereo_msgs/DisparityImage\n",
      "tf/tfMessage\n",
      "tf2_msgs/LookupTransformAction\n",
      "tf2_msgs/LookupTransformActionFeedback\n",
      "tf2_msgs/LookupTransformActionGoal\n",
      "tf2_msgs/LookupTransformActionResult\n",
      "tf2_msgs/LookupTransformFeedback\n",
      "tf2_msgs/LookupTransformGoal\n",
      "tf2_msgs/LookupTransformResult\n",
      "tf2_msgs/TF2Error\n",
      "tf2_msgs/TFMessage\n",
      "theora_image_transport/Packet\n",
      "trajectory_msgs/JointTrajectory\n",
      "trajectory_msgs/JointTrajectoryPoint\n",
      "trajectory_msgs/MultiDOFJointTrajectory\n",
      "trajectory_msgs/MultiDOFJointTrajectoryPoint\n",
      "turtle_actionlib/ShapeAction\n",
      "turtle_actionlib/ShapeActionFeedback\n",
      "turtle_actionlib/ShapeActionGoal\n",
      "turtle_actionlib/ShapeActionResult\n",
      "turtle_actionlib/ShapeFeedback\n",
      "turtle_actionlib/ShapeGoal\n",
      "turtle_actionlib/ShapeResult\n",
      "turtle_actionlib/Velocity\n",
      "turtlesim/Color\n",
      "turtlesim/Pose\n",
      "visualization_msgs/ImageMarker\n",
      "visualization_msgs/InteractiveMarker\n",
      "visualization_msgs/InteractiveMarkerControl\n",
      "visualization_msgs/InteractiveMarkerFeedback\n",
      "visualization_msgs/InteractiveMarkerInit\n",
      "visualization_msgs/InteractiveMarkerPose\n",
      "visualization_msgs/InteractiveMarkerUpdate\n",
      "visualization_msgs/Marker\n",
      "visualization_msgs/MarkerArray\n",
      "visualization_msgs/MenuEntry\n"
     ]
    }
   ],
   "source": [
    "%%bash\n",
    "rosmsg list"
   ]
  },
  {
   "cell_type": "markdown",
   "metadata": {},
   "source": [
    "Самый базовая группа сообщений - std_msgs, ее типы можно глянуть по [ссылке](http://wiki.ros.org/std_msgs) или командой"
   ]
  },
  {
   "cell_type": "code",
   "execution_count": 12,
   "metadata": {},
   "outputs": [
    {
     "name": "stdout",
     "output_type": "stream",
     "text": [
      "std_msgs/Bool\n",
      "std_msgs/Byte\n",
      "std_msgs/ByteMultiArray\n",
      "std_msgs/Char\n",
      "std_msgs/ColorRGBA\n",
      "std_msgs/Duration\n",
      "std_msgs/Empty\n",
      "std_msgs/Float32\n",
      "std_msgs/Float32MultiArray\n",
      "std_msgs/Float64\n",
      "std_msgs/Float64MultiArray\n",
      "std_msgs/Header\n",
      "std_msgs/Int16\n",
      "std_msgs/Int16MultiArray\n",
      "std_msgs/Int32\n",
      "std_msgs/Int32MultiArray\n",
      "std_msgs/Int64\n",
      "std_msgs/Int64MultiArray\n",
      "std_msgs/Int8\n",
      "std_msgs/Int8MultiArray\n",
      "std_msgs/MultiArrayDimension\n",
      "std_msgs/MultiArrayLayout\n",
      "std_msgs/String\n",
      "std_msgs/Time\n",
      "std_msgs/UInt16\n",
      "std_msgs/UInt16MultiArray\n",
      "std_msgs/UInt32\n",
      "std_msgs/UInt32MultiArray\n",
      "std_msgs/UInt64\n",
      "std_msgs/UInt64MultiArray\n",
      "std_msgs/UInt8\n",
      "std_msgs/UInt8MultiArray\n"
     ]
    }
   ],
   "source": [
    "%%bash\n",
    "rosmsg package std_msgs"
   ]
  },
  {
   "cell_type": "markdown",
   "metadata": {},
   "source": [
    "## В результате\n",
    "\n",
    "- Научились запускать мастера.\n",
    "- Научились запускать узлы с переопределением имени (более подробно об этом далее).\n",
    "- Научились пользоваться инструментами анализа узлов, топиков и сообщений."
   ]
  }
 ],
 "metadata": {
  "kernelspec": {
   "display_name": "Python 2",
   "language": "python",
   "name": "python2"
  },
  "language_info": {
   "codemirror_mode": {
    "name": "ipython",
    "version": 2
   },
   "file_extension": ".py",
   "mimetype": "text/x-python",
   "name": "python",
   "nbconvert_exporter": "python",
   "pygments_lexer": "ipython2",
   "version": "2.7.12"
  }
 },
 "nbformat": 4,
 "nbformat_minor": 2
}
