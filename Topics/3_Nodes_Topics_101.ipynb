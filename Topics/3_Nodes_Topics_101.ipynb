{
 "cells": [
  {
   "cell_type": "markdown",
   "metadata": {},
   "source": [
    "# ROS узлы и топики (основное)\n",
    "\n",
    "Вот и подошел черед познакомиться с первыми базовыми вещами ROS - __узлами__. Под узлом подразумевается программа, которая производит некоторые действия. Узлы соединяются __топиками__, через которые передают __сообщения__. Таким образом приходим к знакомой схеме типа графа.  \n",
    "\n",
    "Для начала знакомства необходимо запомнить важную вещь!  \n",
    "> В любой экосистеме ROS существует мастер (и он единственный), который выполняет работу по оповещению узлов о том, что кто-то подключается к каналу, а также о том, какие каналы существуют, чтобы организовать подключение.  \n",
    "\n",
    "Для более подробного описания предлагается поглядеть на офф страницы об [узлах](http://wiki.ros.org/Nodes) и [топиках](http://wiki.ros.org/Topics) =)\n",
    "\n",
    "Чтобы не копаться в теории - попробует запустить узел (пока не пишем программу, а только пробуем готовые и знакомимся с инструментами)."
   ]
  },
  {
   "cell_type": "markdown",
   "metadata": {},
   "source": [
    "> Для работы с данной темой необходимо запустить в отдельных терминалах:\n",
    "- мастера командой   \n",
    "`roscore`\n",
    "- узел из пакета `rospy_tutorials` с именем `talker` командой  \n",
    "`rosrun rospy_tutorials talker __name:=talker`\n",
    "- узел из пакета `rospy_tutorials` с именем `listener` командой  \n",
    "`rosrun rospy_tutorials listener __name:=listener`\n",
    "\n",
    "> Запомните, ROS работает на основе мастера, ьез него ничего работать не будет!"
   ]
  },
  {
   "cell_type": "markdown",
   "metadata": {},
   "source": [
    "---\n",
    "## Основные инструменты\n",
    "Для начала можно проверить существующие команды утилиты анализа узлов"
   ]
  },
  {
   "cell_type": "code",
   "execution_count": null,
   "metadata": {},
   "outputs": [],
   "source": [
    "%%bash\n",
    "rosnode -h"
   ]
  },
  {
   "cell_type": "markdown",
   "metadata": {},
   "source": [
    "Посмотрим список узлов в системе"
   ]
  },
  {
   "cell_type": "code",
   "execution_count": null,
   "metadata": {},
   "outputs": [],
   "source": [
    "%%bash\n",
    "rosnode list"
   ]
  },
  {
   "cell_type": "markdown",
   "metadata": {},
   "source": [
    "Также можно посмотреть информацию о конкретном узле "
   ]
  },
  {
   "cell_type": "code",
   "execution_count": null,
   "metadata": {},
   "outputs": [],
   "source": [
    "%%bash\n",
    "rosnode info /talker"
   ]
  },
  {
   "cell_type": "markdown",
   "metadata": {},
   "source": [
    "---\n",
    "Теперь взглянем на возможности утилиты для анализа топиков"
   ]
  },
  {
   "cell_type": "code",
   "execution_count": null,
   "metadata": {},
   "outputs": [],
   "source": [
    "%%bash\n",
    "rostopic -h"
   ]
  },
  {
   "cell_type": "markdown",
   "metadata": {},
   "source": [
    "Посмотрим на список топиков в системе"
   ]
  },
  {
   "cell_type": "code",
   "execution_count": null,
   "metadata": {},
   "outputs": [],
   "source": [
    "%%bash\n",
    "rostopic list"
   ]
  },
  {
   "cell_type": "markdown",
   "metadata": {},
   "source": [
    "Для вывода в более подробной форме воспользуемся опцией -v"
   ]
  },
  {
   "cell_type": "code",
   "execution_count": null,
   "metadata": {},
   "outputs": [],
   "source": [
    "%%bash\n",
    "rostopic list -v"
   ]
  },
  {
   "cell_type": "markdown",
   "metadata": {},
   "source": [
    "Взглянем на информацию о конкретном топике"
   ]
  },
  {
   "cell_type": "code",
   "execution_count": null,
   "metadata": {},
   "outputs": [],
   "source": [
    "%%bash\n",
    "rostopic info /chatter"
   ]
  },
  {
   "cell_type": "markdown",
   "metadata": {},
   "source": [
    "Далее можно показать вывод топика. Опция `-n 10` ожидает получения 10ти сообщений и после этого завершает утилиту. Опция введена для исключения зависания jupyter, в терминале запуск утилиты без опций приведет к бесконечному выводу сообщений из топика (с возможностью выключить Ctrl+C, конечно) =)"
   ]
  },
  {
   "cell_type": "code",
   "execution_count": null,
   "metadata": {},
   "outputs": [],
   "source": [
    "%%bash\n",
    "rostopic echo -n 10 /chatter"
   ]
  },
  {
   "cell_type": "markdown",
   "metadata": {},
   "source": [
    "> В bash терминале с помощью рассмотренной утилиты попробуйте измерить частоту публикации сообщений в топик."
   ]
  },
  {
   "cell_type": "markdown",
   "metadata": {},
   "source": [
    "---\n",
    "Также существует утилита `rosmsg`, которая анализирует типы сообщений\n",
    "\n",
    "Попробуем проверить ее команды"
   ]
  },
  {
   "cell_type": "code",
   "execution_count": null,
   "metadata": {},
   "outputs": [],
   "source": [
    "%%bash\n",
    "rosmsg -h"
   ]
  },
  {
   "cell_type": "markdown",
   "metadata": {},
   "source": [
    "А теперь посмотрим на тип сообщения топика `/chatter` - `std_msgs/String`"
   ]
  },
  {
   "cell_type": "code",
   "execution_count": null,
   "metadata": {},
   "outputs": [],
   "source": [
    "%%bash\n",
    "rosmsg show std_msgs/String"
   ]
  },
  {
   "cell_type": "markdown",
   "metadata": {},
   "source": [
    "В выводе показана начинка прототипа сообщения. Как видно оно содержит единственное поле типа `string`. Таким образом утилита анализирует информацию, связанную именно с сообщениями, а не самими данными в них.\n",
    "\n",
    "А теперь посмотрим, какие есть сообщения в системе ROS =)"
   ]
  },
  {
   "cell_type": "code",
   "execution_count": null,
   "metadata": {},
   "outputs": [],
   "source": [
    "%%bash\n",
    "rosmsg list"
   ]
  },
  {
   "cell_type": "markdown",
   "metadata": {},
   "source": [
    "Самый базовая группа сообщений - std_msgs, ее типы можно глянуть по [ссылке](http://wiki.ros.org/std_msgs)."
   ]
  },
  {
   "cell_type": "markdown",
   "metadata": {},
   "source": [
    "## В результате\n",
    "\n",
    "- Научились запускать мастера.\n",
    "- Научились запускать узлы с переопределением имени (более подробно об этом далее).\n",
    "- Научились пользоваться инструментами анализа узлов, топиков и сообщений."
   ]
  }
 ],
 "metadata": {
  "kernelspec": {
   "display_name": "Python 2",
   "language": "python",
   "name": "python2"
  },
  "language_info": {
   "codemirror_mode": {
    "name": "ipython",
    "version": 2
   },
   "file_extension": ".py",
   "mimetype": "text/x-python",
   "name": "python",
   "nbconvert_exporter": "python",
   "pygments_lexer": "ipython2",
   "version": "2.7.12"
  }
 },
 "nbformat": 4,
 "nbformat_minor": 2
}
