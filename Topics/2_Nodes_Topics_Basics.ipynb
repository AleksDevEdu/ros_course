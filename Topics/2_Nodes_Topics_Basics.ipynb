{
 "cells": [
  {
   "cell_type": "markdown",
   "metadata": {},
   "source": [
    "# ROS узлы и топики (основное)\n",
    "\n",
    "[Source nodes](http://wiki.ros.org/Nodes)  \n",
    "[Source topics](http://wiki.ros.org/Topics)  \n",
    "\n",
    "Вот и подошел черед познакомиться с первыми базовыми вещами ROS - узлами. Под узлом подразумевается программа, которая производит некоторые действия. Узлы соединяются каналами (топиками), через которые передают данные. Таким образом приходим к знакомой схеме по типу графа.  \n",
    "\n",
    "Для начала знакомства необходимо запомнить важную вещь!  \n",
    "> В любой экосистеме ROS существует мастер (и он единственный), который выполняет работу по оповещению узлов о том, что кто-то подключается к каналу, а также о том, какие каналы существуют, чтобы организовать подключение.  \n",
    "\n",
    "Чтобы не копаться в теории - попробует запустить узел (пока не пишем программу, а только пробуем готовые и знакомимся с инструментами)."
   ]
  },
  {
   "cell_type": "markdown",
   "metadata": {},
   "source": [
    "> Перед началом работы не забывайте запустить мастера командой `roscore`"
   ]
  },
  {
   "cell_type": "markdown",
   "metadata": {},
   "source": [
    "Откройте терминал и введите команду, это запустит узел из пакета `rospy_tutorials`, который отправляет данные  \n",
    "`rosrun rospy_tutorials talker __name:=talker`"
   ]
  },
  {
   "cell_type": "markdown",
   "metadata": {},
   "source": [
    "После запуска `roscore` и `talker` можно проверить существующий узлы в системе"
   ]
  },
  {
   "cell_type": "code",
   "execution_count": null,
   "metadata": {},
   "outputs": [],
   "source": [
    "%%bash\n",
    "rosnode list"
   ]
  },
  {
   "cell_type": "markdown",
   "metadata": {},
   "source": [
    "Также можно посмотреть "
   ]
  },
  {
   "cell_type": "code",
   "execution_count": null,
   "metadata": {},
   "outputs": [],
   "source": [
    "%%bash\n",
    "rosnode info /talker"
   ]
  },
  {
   "cell_type": "markdown",
   "metadata": {},
   "source": []
  },
  {
   "cell_type": "code",
   "execution_count": null,
   "metadata": {},
   "outputs": [],
   "source": [
    "%%bash\n",
    "rostopic list"
   ]
  },
  {
   "cell_type": "code",
   "execution_count": null,
   "metadata": {},
   "outputs": [],
   "source": [
    "%%bash\n",
    "rostopic echo -n10 /chatter"
   ]
  },
  {
   "cell_type": "code",
   "execution_count": null,
   "metadata": {},
   "outputs": [],
   "source": [
    "%%bash\n",
    "rostopic info /chatter"
   ]
  },
  {
   "cell_type": "code",
   "execution_count": null,
   "metadata": {},
   "outputs": [],
   "source": []
  }
 ],
 "metadata": {
  "kernelspec": {
   "display_name": "Python 2",
   "language": "python",
   "name": "python2"
  },
  "language_info": {
   "codemirror_mode": {
    "name": "ipython",
    "version": 2
   },
   "file_extension": ".py",
   "mimetype": "text/x-python",
   "name": "python",
   "nbconvert_exporter": "python",
   "pygments_lexer": "ipython2",
   "version": "2.7.12"
  }
 },
 "nbformat": 4,
 "nbformat_minor": 2
}
