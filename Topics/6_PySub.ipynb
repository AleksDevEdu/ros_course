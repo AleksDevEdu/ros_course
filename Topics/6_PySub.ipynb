{
 "cells": [
  {
   "cell_type": "markdown",
   "metadata": {},
   "source": [
    "# Создание ROS узлов с использованием rospy\n",
    "\n",
    "А теперь перейдем к написанию узла подписки. Пример основы можно также подсмотреть на все той же странице о [написании узлов](http://wiki.ros.org/rospy_tutorials/Tutorials/WritingPublisherSubscriber).\n",
    "\n",
    "Для начала, импортируем основной модуль `rospy` и модуль сообщения типа `std_msgs/String`. "
   ]
  },
  {
   "cell_type": "code",
   "execution_count": null,
   "metadata": {},
   "outputs": [],
   "source": [
    "import rospy\n",
    "from std_msgs.msg import String"
   ]
  },
  {
   "cell_type": "markdown",
   "metadata": {},
   "source": [
    "Далее пишем обработчик приема сообщений из топика и регистрируем как узел, так и подписку на топик."
   ]
  },
  {
   "cell_type": "code",
   "execution_count": null,
   "metadata": {},
   "outputs": [],
   "source": [
    "def callback(msg):\n",
    "    rospy.loginfo(\"I heard %s\", msg.data)\n",
    "\n",
    "rospy.init_node('listener')\n",
    "# Не требуется сохранять объект подписки, возврат функции игнорируется\n",
    "rospy.Subscriber('my_chat_topic', String, callback)"
   ]
  },
  {
   "cell_type": "markdown",
   "metadata": {},
   "source": [
    "После остается лишь оставить узел работать до завершения системы ROS или прерывания узла (Ctrl+C). В момент регистрации подписки на топик узел уже готов принимать сообщения.  \n",
    "С одной стороны можно использовать `rospy.is_shutdown()`. Такая практика рапространена, если необходимо еще что-то делать в узле помимо приема сообщений.  \n",
    "Для простого приема сообщений можно вызвать `rospy.spin()`, который будет удерживать программу рабочей до тех пор, пока ROS не завершится или узел не бует прерван. "
   ]
  },
  {
   "cell_type": "code",
   "execution_count": null,
   "metadata": {},
   "outputs": [],
   "source": [
    "# В данном случае достаточно спина\n",
    "rospy.spin()"
   ]
  },
  {
   "cell_type": "markdown",
   "metadata": {},
   "source": [
    "Общий код узла:\n",
    "```python\n",
    "import rospy\n",
    "from std_msgs.msg import String\n",
    "\n",
    "def callback(msg):\n",
    "    rospy.loginfo(\"I heard %s\", msg.data)\n",
    "\n",
    "rospy.init_node('listener')\n",
    "rospy.Subscriber('my_chat_topic', String, callback)\n",
    "\n",
    "rospy.spin()\n",
    "```"
   ]
  },
  {
   "cell_type": "markdown",
   "metadata": {},
   "source": [
    "> Задачка по самостоятельной интеграции скрипта внутри пакета. Выполнить по аналогии с интеграцией `talker.py`"
   ]
  },
  {
   "cell_type": "markdown",
   "metadata": {},
   "source": [
    "## В результате\n",
    "\n",
    "- Был создан узел, подписанный на топик с сообщением типа строки. Дополнительное рассмотрение API пакета rospy."
   ]
  }
 ],
 "metadata": {
  "kernelspec": {
   "display_name": "Python 2",
   "language": "python",
   "name": "python2"
  },
  "language_info": {
   "codemirror_mode": {
    "name": "ipython",
    "version": 2
   },
   "file_extension": ".py",
   "mimetype": "text/x-python",
   "name": "python",
   "nbconvert_exporter": "python",
   "pygments_lexer": "ipython2",
   "version": "2.7.12"
  }
 },
 "nbformat": 4,
 "nbformat_minor": 2
}
